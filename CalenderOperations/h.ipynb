{
 "cells": [
  {
   "cell_type": "code",
   "execution_count": null,
   "metadata": {
    "collapsed": true
   },
   "outputs": [],
   "source": [
    "calender = [('January', range(1, 31 + 1)),\n",
    "            ('Feburary', range(1, 28 + 1)),\n",
    "            ('March', range(1, 31 + 1)),\n",
    "            ('April', range(1, 30 + 1)),\n",
    "            ('May', range(1, 31 + 1)),\n",
    "            ('June', range(1, 30 + 1)),\n",
    "            ('July', range(1, 31 + 1)),\n",
    "            ('August', range(1, 31 + 1)),\n",
    "            ('September', range(1, 30 + 1)),\n",
    "            ('October', range(1, 31 + 1)),\n",
    "            ('November', range(1, 30 + 1)),\n",
    "            ('December', range(1, 31 + 1))]\n",
    "months = ['January', 'February', 'March', 'April', 'May', 'June', 'July', 'August', 'September', 'October', 'November', 'December', ]\n",
    "days = [31+1, 28+1, 31+1, 30+1, 31+1, 30+1, 31+1, 31+1, 30+1, 31+1, 30+1, 31+1]"
   ]
  },
  {
   "cell_type": "code",
   "execution_count": null,
   "metadata": {},
   "outputs": [],
   "source": []
  }
 ],
 "metadata": {
  "kernelspec": {
   "display_name": "Python 2",
   "language": "python",
   "name": "python2"
  },
  "language_info": {
   "codemirror_mode": {
    "name": "ipython",
    "version": 2
   },
   "file_extension": ".py",
   "mimetype": "text/x-python",
   "name": "python",
   "nbconvert_exporter": "python",
   "pygments_lexer": "ipython2",
   "version": "2.7.6"
  }
 },
 "nbformat": 4,
 "nbformat_minor": 0
}
